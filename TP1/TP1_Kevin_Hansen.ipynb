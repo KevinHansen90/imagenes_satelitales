{
 "cells": [
  {
   "cell_type": "markdown",
   "id": "40394e04",
   "metadata": {},
   "source": [
    "# Análisis y Tratamiento Digital de Imágenes Satelitales: TP1\n",
    "## Alumno: Kevin Hansen"
   ]
  },
  {
   "cell_type": "markdown",
   "id": "c6bddbf6",
   "metadata": {},
   "source": [
    "La notebook irá resolviendo los puntos del trabajo práctico uno por uno. Se espera que se ejecuten las celdas en forma consecutiva, y están armadas de tal manera, que a excepción de los últimos dos puntos donde el usuario debe realizar inputs, el resto funcionará de la manera esperada por la consigna.  \n",
    "En el caso de las imagenes utilizadas, una vez descargadas en los primeros puntos, serán reutilizadas por los demás, creando copias de las mismas en los casos en que fuese necesario."
   ]
  },
  {
   "cell_type": "markdown",
   "id": "db9b9a66",
   "metadata": {},
   "source": [
    "Descomentar y ejecutar las próximas líneas si no se tienen las librerías instaladas."
   ]
  },
  {
   "cell_type": "code",
   "execution_count": 1,
   "id": "7a1b0e21",
   "metadata": {},
   "outputs": [],
   "source": [
    "# # Instalo librerías\n",
    "# !pip install opencv-python\n",
    "# !pip install matplotlib\n",
    "# !pip install scikit-image\n",
    "# !pip install scipy\n",
    "# !pip install --upgrade numpy\n",
    "# !pip install scikit-learn"
   ]
  },
  {
   "cell_type": "code",
   "execution_count": 1,
   "id": "9fe844d2",
   "metadata": {},
   "outputs": [],
   "source": [
    "# Importo librerías\n",
    "import cv2\n",
    "import numpy as np\n",
    "from matplotlib import pyplot as plt\n",
    "from skimage import exposure\n",
    "from sklearn import svm\n",
    "from sklearn.metrics import confusion_matrix\n",
    "from sklearn.model_selection import train_test_split"
   ]
  },
  {
   "cell_type": "markdown",
   "id": "26601624",
   "metadata": {},
   "source": [
    "### 2)  Implementar un programa que realice las siguientes operaciones con imágenes en formato raw, pgm, ppm, jpg y una imagen satelital:"
   ]
  },
  {
   "cell_type": "markdown",
   "id": "9dcc7676",
   "metadata": {},
   "source": [
    "En este ejemplo inicial, se aplicará la consigna a un caso jpg, aunque luego a lo largo del trabajo práctico se utilizarán estas mismas funciones para interactuar con imágenes satelitales."
   ]
  },
  {
   "cell_type": "markdown",
   "id": "baba8659",
   "metadata": {},
   "source": [
    "### a) Cargar una imagen de un archivo y desplegarla."
   ]
  },
  {
   "cell_type": "markdown",
   "id": "30a70c94",
   "metadata": {},
   "source": [
    "Al utilizar la librería de opencv, se abrirán las imágenes en una ventana nueva emergente. Por favor, cerrar la imagen una vez visualizada."
   ]
  },
  {
   "cell_type": "code",
   "execution_count": 2,
   "id": "53ac172e",
   "metadata": {},
   "outputs": [
    {
     "data": {
      "text/plain": [
       "-1"
      ]
     },
     "execution_count": 2,
     "metadata": {},
     "output_type": "execute_result"
    }
   ],
   "source": [
    "# Cargo imagen\n",
    "image_name = 'DSC_1088.jpg'\n",
    "image = cv2.imread(f'./Imagenes/RGB/{image_name}')\n",
    "\n",
    "\n",
    "# Parametros para reescalar la imagen para verla bien en la pantalla\n",
    "height, width = image.shape[:2]\n",
    "new_height = height // 5\n",
    "new_width = width // 5\n",
    "\n",
    "# Reescalo los índices\n",
    "image_small = cv2.resize(image, (new_width, new_height), interpolation=cv2.INTER_AREA)\n",
    "\n",
    "# Imprimo imagen\n",
    "cv2.imshow('image', image_small)\n",
    "cv2.waitKey(0)"
   ]
  },
  {
   "cell_type": "markdown",
   "id": "2577aa4c",
   "metadata": {},
   "source": [
    "### b)  Guardar una imagen a un archivo."
   ]
  },
  {
   "cell_type": "code",
   "execution_count": 5,
   "id": "9a7cfc97",
   "metadata": {},
   "outputs": [
    {
     "data": {
      "text/plain": [
       "True"
      ]
     },
     "execution_count": 5,
     "metadata": {},
     "output_type": "execute_result"
    }
   ],
   "source": [
    "duplicate_name = f'copia_{image_name}'\n",
    "cv2.imwrite(f'./Imagenes/RGB/{duplicate_name}', image)"
   ]
  },
  {
   "cell_type": "markdown",
   "id": "9ff98b08",
   "metadata": {},
   "source": [
    "### c) Obtener el valor de un pixel en una imagen."
   ]
  },
  {
   "cell_type": "code",
   "execution_count": 6,
   "id": "a450924b",
   "metadata": {},
   "outputs": [
    {
     "name": "stdout",
     "output_type": "stream",
     "text": [
      "[132 142 152]\n"
     ]
    }
   ],
   "source": [
    "pixel_value = image[100, 100]\n",
    "print(pixel_value)"
   ]
  },
  {
   "cell_type": "markdown",
   "id": "de8d578f",
   "metadata": {},
   "source": [
    "### d)  Copiar una parte de la imagen en otra imagen nueva."
   ]
  },
  {
   "cell_type": "code",
   "execution_count": 8,
   "id": "53faabe6",
   "metadata": {},
   "outputs": [
    {
     "data": {
      "text/plain": [
       "-1"
      ]
     },
     "execution_count": 8,
     "metadata": {},
     "output_type": "execute_result"
    }
   ],
   "source": [
    "cropped_image = image[1000:1200, 1000:1200]\n",
    "cv2.imshow('cropped_image', cropped_image)\n",
    "cv2.waitKey(0)"
   ]
  },
  {
   "cell_type": "markdown",
   "id": "a1cdbd92",
   "metadata": {},
   "source": [
    "### e) Guardar la imagen cortada con otro nombre."
   ]
  },
  {
   "cell_type": "code",
   "execution_count": 9,
   "id": "5e7f217f",
   "metadata": {},
   "outputs": [
    {
     "data": {
      "text/plain": [
       "True"
      ]
     },
     "execution_count": 9,
     "metadata": {},
     "output_type": "execute_result"
    }
   ],
   "source": [
    "cropped_name = f'cropped_{image_name}'\n",
    "cv2.imwrite(f'./Imagenes/RGB/{cropped_name}', cropped_image)"
   ]
  },
  {
   "cell_type": "markdown",
   "id": "57ce7489",
   "metadata": {},
   "source": [
    "### 3) Implementar un programa que marque una región dentro de la imagen e informe la cantidad de pixels de la región y el promedio de los niveles de gris o el promedio del color si es una imagen en color.\n"
   ]
  },
  {
   "cell_type": "code",
   "execution_count": 10,
   "id": "1262b666",
   "metadata": {
    "scrolled": false
   },
   "outputs": [
    {
     "name": "stdout",
     "output_type": "stream",
     "text": [
      "Número de pixels en ROI: 30000\n",
      "Valor promedio para ROI: (113.78880000000001, 146.20440000000002, 154.5842)\n"
     ]
    },
    {
     "data": {
      "text/plain": [
       "-1"
      ]
     },
     "execution_count": 10,
     "metadata": {},
     "output_type": "execute_result"
    }
   ],
   "source": [
    "# Creo copia de imagen original\n",
    "image_copy = np.copy(image_small)\n",
    "\n",
    "# Definir la región de interés\n",
    "x, y, w, h = 300, 200, 100, 100\n",
    "roi = image_copy[y:y+h, x:x+w]\n",
    "\n",
    "# Dibujo rectángulo alrededor de la región de interés\n",
    "cv2.rectangle(image_copy, (x, y), (x+w, y+h), (0, 255, 0), 2)\n",
    "\n",
    "# Calculo la cantidad de pixels\n",
    "num_pixels = roi.size\n",
    "\n",
    "# Calculo el color promedio\n",
    "avg_color = cv2.mean(roi)[:3]\n",
    "\n",
    "# Imprimo resultados\n",
    "print(f'Número de pixels en ROI: {num_pixels}')\n",
    "print(f'Valor promedio para ROI: {avg_color}')\n",
    "\n",
    "# Imprimo imagen con región de interés marcada\n",
    "cv2.imshow('image', image_copy)\n",
    "cv2.waitKey(0)"
   ]
  },
  {
   "cell_type": "markdown",
   "id": "34cb4576",
   "metadata": {},
   "source": [
    "###  4) Implementar un programa que marque una región dentro de una imagen satelital e informe la cantidad de pixels de la región, la cantidad de bandas y el promedio de cada banda dentro de la región."
   ]
  },
  {
   "cell_type": "code",
   "execution_count": 7,
   "id": "4800d590",
   "metadata": {},
   "outputs": [
    {
     "name": "stdout",
     "output_type": "stream",
     "text": [
      "Número de pixels en ROI: 10000\n",
      "Número de bandas: 11\n",
      "Valor promedio de banda para ROI: [10481.5276, 10069.7141, 9990.507, 10645.6309, 12385.9067, 13643.6402, 12462.746, 10151.7634, 5057.4515, 26808.0659, 26555.1624]\n"
     ]
    },
    {
     "data": {
      "text/plain": [
       "-1"
      ]
     },
     "execution_count": 7,
     "metadata": {},
     "output_type": "execute_result"
    }
   ],
   "source": [
    "# Defino el número de bandas de la imagen\n",
    "num_bands = 11\n",
    "\n",
    "# Inicializo lista de bandas\n",
    "bands = []\n",
    "\n",
    "# Cargo cada banda que corresponde a un archivo\n",
    "for i in range(1, num_bands + 1):\n",
    "    band = cv2.imread(f'./Imagenes/Landsat/LC09_L1TP_230093_20221102_20230323_02_T1_B{i}.TIF', cv2.IMREAD_UNCHANGED)\n",
    "\n",
    "    # Establezco valores para reescalar la imagen y poder visualizarla\n",
    "    height, width = band.shape[:2]\n",
    "    new_height = height // 15\n",
    "    new_width = width // 15\n",
    "\n",
    "    # Reescalo los índices\n",
    "    band_small = cv2.resize(band, (new_width, new_height), interpolation=cv2.INTER_AREA)\n",
    "\n",
    "    # Downsample de banda 8 para alinear su resolución al resto\n",
    "    if i == 8:\n",
    "        height, width = bands[0].shape[:2]\n",
    "        band_small = cv2.resize(band_small, (width, height), interpolation=cv2.INTER_AREA)\n",
    "\n",
    "    bands.append(band_small)\n",
    "\n",
    "# Combino las bandas en una única imagen\n",
    "landsat = np.dstack(bands)\n",
    "\n",
    "# Defino región de interés\n",
    "x, y, w, h = 200, 200, 100, 100\n",
    "roi = landsat[y:y+h, x:x+w]\n",
    "\n",
    "# Calculo el número de pixels de la región\n",
    "num_pixels = roi.shape[0] * roi.shape[1]\n",
    "\n",
    "# Calculo el número de bandas de la imagen\n",
    "num_bands = roi.shape[2]\n",
    "\n",
    "# Calculo el valor promedio de cada banda para la región de interés\n",
    "avg_values = [np.mean(roi[:, :, i]) for i in range(num_bands)]\n",
    "\n",
    "# Imprimo resultados\n",
    "print(f'Número de pixels en ROI: {num_pixels}')\n",
    "print(f'Número de bandas: {num_bands}')\n",
    "print(f'Valor promedio de banda para ROI: {avg_values}')\n",
    "\n",
    "# Extraigo una de las bandas\n",
    "band = landsat[:, :, 1]\n",
    "\n",
    "# Convierto el tipo de objeto de la banda\n",
    "band = cv2.UMat(band)\n",
    "\n",
    "# Dibujo un rectángulo que marca la región de interés\n",
    "cv2.rectangle(band, (x, y), (x+w, y+h), (255, 0, 0), 2)\n",
    "\n",
    "# Imprimo imagen con región de interés marcada\n",
    "cv2.imshow('Band 2', band)\n",
    "# Muevo la ventana para poder arrastrarla\n",
    "cv2.moveWindow('Band 2', 100, 200)\n",
    "cv2.waitKey(0)"
   ]
  },
  {
   "cell_type": "markdown",
   "id": "7f042ed7",
   "metadata": {},
   "source": [
    "### 5) Dada una imagen satelital separada en bandas, calcular los índices NDVI, NDWI y SVI y mostrarlos como imágenes."
   ]
  },
  {
   "cell_type": "code",
   "execution_count": 31,
   "id": "072613d3",
   "metadata": {},
   "outputs": [
    {
     "name": "stdout",
     "output_type": "stream",
     "text": [
      "Blue band: min=-0.1, max=0.7428400000000001\n",
      "Green band: min=-0.1, max=0.7413000000000001\n",
      "Red band: min=-0.1, max=0.7585000000000001\n",
      "NIR band: min=-0.1, max=0.6484200000000001\n",
      "NDVI: min=-125.40000000001376, max=318.99999999995765\n",
      "NDWI: min=-199.33333333331836, max=1212.0000000000496\n",
      "SAVI: min=-0.2236338522632442, max=0.36123397556038683\n",
      "NDVI: min=0.0, max=1.0\n",
      "NDWI: min=0.0, max=1.0\n",
      "SAVI: min=0.0, max=1.0\n"
     ]
    },
    {
     "data": {
      "text/plain": [
       "-1"
      ]
     },
     "execution_count": 31,
     "metadata": {},
     "output_type": "execute_result"
    }
   ],
   "source": [
    "# Establezco coeficientes de calibración para cada banda en base al archivo de metadata\n",
    "mult_band_2 = 2.0000E-05\n",
    "add_band_2 = -0.100000\n",
    "mult_band_3 = 2.0000E-05\n",
    "add_band_3 = -0.100000\n",
    "mult_band_4 = 2.0000E-05\n",
    "add_band_4 = -0.100000\n",
    "mult_band_5 = 2.0000E-05\n",
    "add_band_5 = -0.100000\n",
    "\n",
    "# Divido la imagen en las bandas que voy a utilizar\n",
    "blue_band = landsat[:, :, 1] * mult_band_2 + add_band_2\n",
    "green_band = landsat[:, :, 2] * mult_band_3 + add_band_3\n",
    "red_band = landsat[:, :, 3] * mult_band_4 + add_band_4\n",
    "nir_band = landsat[:, :, 4] * mult_band_5 + add_band_5\n",
    "\n",
    "# Valido los valores de input de las bandas\n",
    "print(f'Blue band: min={np.min(blue_band)}, max={np.max(blue_band)}')\n",
    "print(f'Green band: min={np.min(green_band)}, max={np.max(green_band)}')\n",
    "print(f'Red band: min={np.min(red_band)}, max={np.max(red_band)}')\n",
    "print(f'NIR band: min={np.min(nir_band)}, max={np.max(nir_band)}')\n",
    "\n",
    "# Calculo NDVI\n",
    "ndvi = (nir_band - red_band) / (nir_band + red_band)\n",
    "\n",
    "# Calculo NDWI\n",
    "ndwi = (green_band - nir_band) / (green_band + nir_band)\n",
    "\n",
    "# Calculo SAVI\n",
    "L = 0.5 # L factor de ajuste\n",
    "savi = ((nir_band - red_band) / (nir_band + red_band + L)) * (1 + L)\n",
    "\n",
    "# Valido los valores obtenidos para los índices\n",
    "print(f'NDVI: min={np.min(ndvi)}, max={np.max(ndvi)}')\n",
    "print(f'NDWI: min={np.min(ndwi)}, max={np.max(ndwi)}')\n",
    "print(f'SAVI: min={np.min(savi)}, max={np.max(savi)}')\n",
    "\n",
    "# Clipeo para que queden dentro del rango correcto\n",
    "ndvi = np.clip(ndvi, -1, 1)\n",
    "ndwi = np.clip(ndwi, -1, 1)\n",
    "savi = np.clip(savi, -1, 1)\n",
    "\n",
    "# Ajusto el contraste de cada uno\n",
    "ndvi = exposure.rescale_intensity(ndvi, out_range=(0, 1))\n",
    "ndwi = exposure.rescale_intensity(ndwi, out_range=(0, 1))\n",
    "savi = exposure.rescale_intensity(savi, out_range=(0, 1))\n",
    "\n",
    "# Imprimo los índices\n",
    "cv2.imshow('NDVI', ndvi)\n",
    "cv2.imshow('NDWI', ndwi)\n",
    "cv2.imshow('SAVI', savi)\n",
    "cv2.imshow('NDVI_norm', ndvi_normalized)\n",
    "cv2.imshow('NDWI_norm', ndwi_normalized)\n",
    "cv2.imshow('SAVI_norm', savi_normalized)\n",
    "cv2.waitKey(0)"
   ]
  },
  {
   "cell_type": "markdown",
   "id": "a4b61321",
   "metadata": {},
   "source": [
    "### 6) Implementar la función de potencia γ, 0 < γ < 2 y γ ̸= 1 y aplicarla a la imagen del índice NDVI. Variar el valor de γ para observar los resultados."
   ]
  },
  {
   "cell_type": "code",
   "execution_count": 13,
   "id": "e01187d2",
   "metadata": {},
   "outputs": [
    {
     "data": {
      "image/png": "[encoded data removed]",
      "text/plain": [
       "<Figure size 432x288 with 1 Axes>"
      ]
     },
     "metadata": {
      "needs_background": "light"
     },
     "output_type": "display_data"
    },
    {
     "data": {
      "image/png": "[encoded data removed]",
      "text/plain": [
       "<Figure size 432x288 with 1 Axes>"
      ]
     },
     "metadata": {
      "needs_background": "light"
     },
     "output_type": "display_data"
    },
    {
     "data": {
      "image/png": "[encoded data removed]",
      "text/plain": [
       "<Figure size 432x288 with 1 Axes>"
      ]
     },
     "metadata": {
      "needs_background": "light"
     },
     "output_type": "display_data"
    },
    {
     "data": {
      "image/png": "[encoded data removed]",
      "text/plain": [
       "<Figure size 432x288 with 1 Axes>"
      ]
     },
     "metadata": {
      "needs_background": "light"
     },
     "output_type": "display_data"
    }
   ],
   "source": [
    "# Aplico función gamma con distintos valores\n",
    "gamma_values = [0.5, 0.8, 1.2, 1.5]\n",
    "for gamma in gamma_values:\n",
    "    ndvi_gamma = exposure.adjust_gamma(ndvi, gamma=gamma)\n",
    "\n",
    "    # Imprimo resultados\n",
    "    plt.imshow(ndvi_gamma, cmap='gray')\n",
    "    plt.title(f'NDVI with gamma={gamma}')\n",
    "    plt.show()"
   ]
  },
  {
   "cell_type": "markdown",
   "id": "056b4efb",
   "metadata": {},
   "source": [
    "### 7)  Implementar una función que devuelva el negativo de una imagen y aplicarlo a una imagen RGB banda por banda."
   ]
  },
  {
   "cell_type": "code",
   "execution_count": 3,
   "id": "a808ce88",
   "metadata": {},
   "outputs": [
    {
     "data": {
      "text/plain": [
       "-1"
      ]
     },
     "execution_count": 3,
     "metadata": {},
     "output_type": "execute_result"
    }
   ],
   "source": [
    "# Función de negativo\n",
    "def negative_image(image):\n",
    "    # Divido la imagen en bandas\n",
    "    bands = cv2.split(image)\n",
    "\n",
    "    # Aplico el negativo a cada banda\n",
    "    negative_bands = []\n",
    "    for band in bands:\n",
    "        # Calculo el valor maximo del pixel para la banda\n",
    "        max_value = np.iinfo(band.dtype).max\n",
    "\n",
    "        # Calculo el negativo para la banda\n",
    "        negative_band = max_value - band\n",
    "\n",
    "        # Agrego la banda negativa a la lista\n",
    "        negative_bands.append(negative_band)\n",
    "\n",
    "    # Junto los negativos para formar la imagen nuevamente\n",
    "    negative = cv2.merge(negative_bands)\n",
    "\n",
    "    return negative\n",
    "\n",
    "# Aplico el negativo a la imagen completa\n",
    "negative = negative_image(image_small)\n",
    "\n",
    "# Muestro ambos para comparar\n",
    "cv2.imshow('Original', image_small)\n",
    "cv2.imshow('Negative', negative)\n",
    "cv2.waitKey(0)\n"
   ]
  },
  {
   "cell_type": "markdown",
   "id": "963ebbea",
   "metadata": {},
   "source": [
    "### 8)  Implementar una función que devuelva el histograma de niveles de gris de cada banda de una imagen."
   ]
  },
  {
   "cell_type": "code",
   "execution_count": 16,
   "id": "1364212b",
   "metadata": {},
   "outputs": [
    {
     "data": {
      "image/png": "[encoded data removed]",
      "text/plain": [
       "<Figure size 432x288 with 1 Axes>"
      ]
     },
     "metadata": {
      "needs_background": "light"
     },
     "output_type": "display_data"
    }
   ],
   "source": [
    "# Función de histograma\n",
    "def image_histogram(image):\n",
    "    # Divido la imagen en bandas\n",
    "    bands = cv2.split(image)\n",
    "\n",
    "    # Calculo el histograma para cada banda\n",
    "    for i, band in enumerate(bands):\n",
    "        # Normalizo la banda para que vaya de 0 a 255\n",
    "        normalized_band = cv2.normalize(band, None, 0, 255, cv2.NORM_MINMAX)\n",
    "        \n",
    "        # Calculo sobre el normalizado\n",
    "        hist = cv2.calcHist([normalized_band], [0], None, [256], [0, 256])\n",
    "        plt.plot(hist, label=f'Banda {i+1}')\n",
    "\n",
    "    # Muestro el histograma\n",
    "    plt.xlim([0, 256])\n",
    "    plt.legend()\n",
    "    plt.show()\n",
    "\n",
    "# Aplico la funcion a mi imagen original\n",
    "image_histogram(image)\n"
   ]
  },
  {
   "cell_type": "markdown",
   "id": "2efd20f0",
   "metadata": {},
   "source": [
    "### 9) Implementar una función que aplique un umbral a cada banda de una imagen, devolviendo una imagen binaria para cada una."
   ]
  },
  {
   "cell_type": "code",
   "execution_count": 19,
   "id": "bef45184",
   "metadata": {},
   "outputs": [
    {
     "data": {
      "text/plain": [
       "-1"
      ]
     },
     "execution_count": 19,
     "metadata": {},
     "output_type": "execute_result"
    }
   ],
   "source": [
    "# Función de umbral\n",
    "def threshold_image(image, threshold):\n",
    "    # Divido la imagen en bandas\n",
    "    bands = cv2.split(image)\n",
    "\n",
    "    # Aplico el umbral a cada banda\n",
    "    binary_bands = []\n",
    "    for band in bands:\n",
    "        # Normalizo la banda para que vaya de 0 a 255\n",
    "        normalized_band = cv2.normalize(band, None, 0, 255, cv2.NORM_MINMAX)\n",
    "\n",
    "        # Aplico el umbral a la banda normalizada\n",
    "        _, binary_band = cv2.threshold(normalized_band, threshold, 255, cv2.THRESH_BINARY)\n",
    "        binary_bands.append(binary_band)\n",
    "\n",
    "    return binary_bands\n",
    "\n",
    "# Aplico el umbral de 140 a mi imagen original\n",
    "binary_bands = threshold_image(image_small, 140)\n",
    "\n",
    "# Muestro las bandas\n",
    "for i, binary_band in enumerate(binary_bands):\n",
    "    cv2.imshow(f'Banda binaria {i+1}', binary_band)\n",
    "cv2.waitKey(0)\n"
   ]
  },
  {
   "cell_type": "markdown",
   "id": "a5860db4",
   "metadata": {},
   "source": [
    "### 10) Implementar una función que realice la ecualización del histograma para mejorar la imágen, realizar la operación banda por banda y en la imagen del índice NDVI, observar los resultados."
   ]
  },
  {
   "cell_type": "code",
   "execution_count": 23,
   "id": "6a2dcc08",
   "metadata": {},
   "outputs": [
    {
     "data": {
      "text/plain": [
       "-1"
      ]
     },
     "execution_count": 23,
     "metadata": {},
     "output_type": "execute_result"
    }
   ],
   "source": [
    "# Función de ecualización\n",
    "def equalize_histogram(image):\n",
    "    # Obtengo el número de bandas de la imagen\n",
    "    num_bands = image.shape[2] if len(image.shape) == 3 else 1\n",
    "\n",
    "    # Caso para imagen de una banda (indices)\n",
    "    if num_bands == 1:\n",
    "        equalized = cv2.equalizeHist(image)\n",
    "    else:\n",
    "        # Divido si tiene mas de una banda\n",
    "        bands = cv2.split(image)\n",
    "\n",
    "        # Ecualizo para cada banda\n",
    "        equalized_bands = [cv2.equalizeHist(band) for band in bands]\n",
    "\n",
    "        # Vuelvo a juntar\n",
    "        equalized = cv2.merge(equalized_bands)\n",
    "\n",
    "    return equalized\n",
    "\n",
    "# Ecualizo imagen original\n",
    "equalized = equalize_histogram(image_small)\n",
    "\n",
    "# Muestro original y ecualizada\n",
    "cv2.imshow('image_original', image_small)\n",
    "cv2.imshow('image_equalized', equalized)\n",
    "cv2.waitKey(0)\n",
    "\n",
    "# Normalizo NDVI [0, 255]\n",
    "ndvi_normalized = cv2.normalize(ndvi, None, 0, 255, cv2.NORM_MINMAX)\n",
    "\n",
    "# Convierto en formato para poder ecualizar\n",
    "ndvi_8bit = np.uint8(ndvi_normalized)\n",
    "\n",
    "# Ecualizo NDVI\n",
    "ndvi_equalized = equalize_histogram(ndvi_8bit)\n",
    "\n",
    "# Muestro original y ecualizado\n",
    "cv2.imshow('NDVI_original', ndvi)\n",
    "cv2.imshow('NDVI_equalized', ndvi_equalized)\n",
    "cv2.waitKey(0)\n"
   ]
  },
  {
   "cell_type": "markdown",
   "id": "1eaa179d",
   "metadata": {},
   "source": [
    "### 11)  Implementar un generador de ruido impulsivo (Sal y Pimienta) de densidad variable, aplicarlo una imagen."
   ]
  },
  {
   "cell_type": "code",
   "execution_count": 24,
   "id": "4139e551",
   "metadata": {},
   "outputs": [
    {
     "data": {
      "text/plain": [
       "-1"
      ]
     },
     "execution_count": 24,
     "metadata": {},
     "output_type": "execute_result"
    }
   ],
   "source": [
    "# Función de sal y pimienta\n",
    "def salt_and_pepper(image, density):\n",
    "    # Creo copia de imagen original\n",
    "    noisy_image = np.copy(image)\n",
    "\n",
    "    # Calculo número de pixels sobre los que voy a modificar\n",
    "    num_pixels = int(density * image.size)\n",
    "\n",
    "    # Agrego coordenadas aleatorias para las modificaciones\n",
    "    coords = [np.random.randint(0, i, num_pixels) for i in image.shape]\n",
    "\n",
    "    # Seteo la mitad de las modificaciones a blanco\n",
    "    noisy_image[coords[0][:num_pixels//2], coords[1][:num_pixels//2]] = 255\n",
    "\n",
    "    # Seteo la otra mitad de las modificaciones a negro\n",
    "    noisy_image[coords[0][num_pixels//2:], coords[1][num_pixels//2:]] = 0\n",
    "\n",
    "    return noisy_image\n",
    "\n",
    "# Aplico funcion con densidad de 5%\n",
    "noisy_image = salt_and_pepper(image_small, 0.05)\n",
    "\n",
    "# Muestro original y modificada\n",
    "cv2.imshow('image_original', image_small)\n",
    "cv2.imshow('image_salt_and_pepper', noisy_image)\n",
    "cv2.waitKey(0)\n"
   ]
  },
  {
   "cell_type": "markdown",
   "id": "f95abb3e",
   "metadata": {},
   "source": [
    "### 12) Implementar una ventana deslizante que pueda aplicarse a una imagen con máscaras de tamaño variable, cuadrada y aplicar a una imagen las siguientes mascaras:\n",
    "### a) Suavizado con el filtro de la media.\n",
    "### b) Suavizado con el filtro de la mediana.\n",
    "### c) Suavizado con el filtro de la mediana ponderada de 3 × 3.\n",
    "### d) Suavizado con el filtro de Gauss para diferentes valores de σ y µ = 0.\n",
    "### e) Realce de Bordes."
   ]
  },
  {
   "cell_type": "code",
   "execution_count": 25,
   "id": "f459be7b",
   "metadata": {},
   "outputs": [
    {
     "data": {
      "text/plain": [
       "-1"
      ]
     },
     "execution_count": 25,
     "metadata": {},
     "output_type": "execute_result"
    }
   ],
   "source": [
    "# Función para mediana ponderada\n",
    "def weighted_median(values, weights):\n",
    "    # Calculo la mediana ponderada para cada canal por separado\n",
    "    medians = []\n",
    "    for c in range(values.shape[2]):\n",
    "        channel_values = values[:, :, c]\n",
    "        data = np.column_stack((channel_values.ravel(), weights.ravel()))\n",
    "        data = data[data[:, 0].argsort()]\n",
    "        cumsum = np.cumsum(data[:, 1])\n",
    "        median_index = np.searchsorted(cumsum, cumsum[-1] / 2)\n",
    "        median_index = min(median_index) if isinstance(median_index, np.ndarray) else median_index\n",
    "        median = data[median_index, 0]\n",
    "        medians.append(median)\n",
    "    return np.array(medians)\n",
    "\n",
    "# Función de ventana deslizante para distintas operaciones\n",
    "def sliding_window(image, mask_size, operation):\n",
    "    \n",
    "    # Defino tamaño del kernel\n",
    "    ksize = (mask_size, mask_size)\n",
    "\n",
    "    # Aplico la operación especificada\n",
    "    if operation == 'mean':\n",
    "        smoothed = cv2.blur(image, ksize)\n",
    "    elif operation == 'median':\n",
    "        smoothed = cv2.medianBlur(image, mask_size)\n",
    "    elif operation == 'weighted_median':\n",
    "        # Defino los pesos para la mediana ponderada\n",
    "        weights = np.array([[1, 2, 1], [2, 4, 2], [1, 2, 1]])\n",
    "        \n",
    "        # Creo una versión padded de la imagen manualmente\n",
    "        padded_image = np.zeros((image.shape[0] + 2, image.shape[1] + 2, image.shape[2]), dtype=image.dtype)\n",
    "        padded_image[1:-1, 1:-1] = image\n",
    "        \n",
    "        # Creo un arrazy vacío para la salida\n",
    "        smoothed = np.zeros_like(image)\n",
    "\n",
    "        # Defino kernel en base a shape\n",
    "        ksize = weights.shape[0]\n",
    "        \n",
    "        # Itero para cada pixel en la imagen\n",
    "        for i in range(image.shape[0]):\n",
    "            for j in range(image.shape[1]):\n",
    "                # Me fijo vecinos\n",
    "                neighborhood = padded_image[i:i+ksize, j:j+ksize]\n",
    "\n",
    "                # Calculo mediana ponderada\n",
    "                median = weighted_median(neighborhood, weights)\n",
    "\n",
    "                # Seteo el pixel de output\n",
    "                smoothed[i, j] = median.astype(image.dtype)\n",
    "\n",
    "    elif operation == 'gaussian':\n",
    "        smoothed = cv2.GaussianBlur(image, ksize, sigmaX=0)\n",
    "    elif operation == 'edge_enhancement':\n",
    "        kernel = np.array([[-1,-1,-1], [-1,9,-1], [-1,-1,-1]])\n",
    "        smoothed = cv2.filter2D(image, -1, kernel)\n",
    "\n",
    "    return smoothed\n",
    "\n",
    "# Aplico función de ventana deslizante con máscara de 5 para las distintas operaciones\n",
    "smoothed_mean = sliding_window(image_small, 5, 'mean')\n",
    "smoothed_median = sliding_window(image_small, 5, 'median')\n",
    "smoothed_weighted_median = sliding_window(image_small, 3, 'weighted_median')\n",
    "smoothed_gaussian = sliding_window(image_small, 5, 'gaussian')\n",
    "enhanced_edges = sliding_window(image_small, 5, 'edge_enhancement')\n",
    "\n",
    "# Muestro resultados\n",
    "cv2.imshow('Original', image_small)\n",
    "cv2.imshow('Smoothed mean', smoothed_mean)\n",
    "cv2.imshow('Smoothed median', smoothed_median)\n",
    "cv2.imshow('Smoothed weighted median', smoothed_weighted_median)\n",
    "cv2.imshow('Smoothed gaussian', smoothed_gaussian)\n",
    "cv2.imshow('Enhanced edges', enhanced_edges)\n",
    "cv2.waitKey(0)\n"
   ]
  },
  {
   "cell_type": "markdown",
   "id": "ed92fe19",
   "metadata": {},
   "source": [
    "### 13) Implementar el detector de bordes por el método del gradiente utilizando los siguientes operadores de gradiente:  \n",
    "### a) Prewitt.\n",
    "### b) Sobel."
   ]
  },
  {
   "cell_type": "code",
   "execution_count": 26,
   "id": "38bb8a33",
   "metadata": {},
   "outputs": [
    {
     "data": {
      "text/plain": [
       "-1"
      ]
     },
     "execution_count": 26,
     "metadata": {},
     "output_type": "execute_result"
    }
   ],
   "source": [
    "# Función que combina ambos detectores de bordes\n",
    "def detect_edges(image, operator='sobel'):\n",
    "    # Convierto la imagen a grises\n",
    "    gray = cv2.cvtColor(image, cv2.COLOR_BGR2GRAY)\n",
    "\n",
    "    # Aplico el operador que se especifique\n",
    "    if operator == 'prewitt':\n",
    "        # Defino kernels de Prewitt\n",
    "        kernel_x = np.array([[1, 1, 1], [0, 0, 0], [-1, -1, -1]])\n",
    "        kernel_y = np.array([[-1, 0, 1], [-1, 0, 1], [-1, 0, 1]])\n",
    "\n",
    "        # Computo los gradientes en ambas direcciones (Prewitt)\n",
    "        grad_x = cv2.filter2D(gray, -1, kernel_x)\n",
    "        grad_y = cv2.filter2D(gray, -1, kernel_y)\n",
    "    else:\n",
    "        # Computo los gradientes (Sobel)\n",
    "        grad_x = cv2.Sobel(gray, cv2.CV_64F, 1, 0)\n",
    "        grad_y = cv2.Sobel(gray, cv2.CV_64F, 0, 1)\n",
    "\n",
    "    # Convierto los gradientes al tipo correcto de datos\n",
    "    grad_x = grad_x.astype(np.float32)\n",
    "    grad_y = grad_y.astype(np.float32)\n",
    "\n",
    "    # Computo la magnitud del gradiente\n",
    "    grad_magnitude = cv2.magnitude(grad_x, grad_y)\n",
    "\n",
    "    # Normalizo el gradiente [0, 255]\n",
    "    grad_magnitude = cv2.normalize(grad_magnitude, None, 0, 255, cv2.NORM_MINMAX)\n",
    "\n",
    "    # Convierto el gradiente normalizado a 8 bit\n",
    "    edges = np.uint8(grad_magnitude)\n",
    "\n",
    "    return edges\n",
    "\n",
    "# Creo copia de imagen original\n",
    "image_copy = np.copy(image_small)\n",
    "\n",
    "# Detecto bordes con Sobel\n",
    "edges_sobel = detect_edges(image_copy)\n",
    "\n",
    "# Detecto bordes con Prewitt\n",
    "edges_prewitt = detect_edges(image_copy, operator='prewitt')\n",
    "\n",
    "# Muestro original y con detección de bordes\n",
    "cv2.imshow('Original', image_copy)\n",
    "cv2.imshow('Edges (Sobel)', edges_sobel)\n",
    "cv2.imshow('Edges (Prewitt)', edges_prewitt)\n",
    "cv2.waitKey(0)"
   ]
  },
  {
   "cell_type": "markdown",
   "id": "e44d2354",
   "metadata": {},
   "source": [
    "### 14) Clasificar una imagen utilizando métodos de clasificacián supervisada, cortando regiones para entrenar de ciudad, selva y agua. Separar el conjunto de muestra en conjunto de entrenamiento y conjunto de testeo. Clasificar utilizando el método SVM y calcular la matriz de confusi´on. Aplicar el método ya entrenado para clasificar la imagen completa.    \n",
    "Para este punto no utilicé la misma imagen Landsat dado que no tenía bien clara la diferencia entre ciudad, selva y agua. Directamente uso una imagen de la triple frontera donde se ve mas claro.  \n",
    "Es un punto es un poco más complejo y lo armé para que el usuario sea quien define que labels y qué puntos utiliza para entrenar.  \n",
    "Funciona de la siguiente manera:  \n",
    "- Correr la celda  \n",
    "- Ingresar el número de puntos que se seleccionará manualmente en cada label (por ejemplo 10)  \n",
    "- Seleccionar un nombre para la categoría (por ejemplo: Ciudad, Selva, Agua, etc)  \n",
    "- Abrir la ventana que se desplegará con la imagen  \n",
    "- Clickear la cantidad de veces que ha definido (la ventana se cerrará sola)  \n",
    "- Decidir si agregar más categorías o finalizar (debe haber por lo menos 2 categorías para clasificar)  \n",
    "- Se entrenará y testeará con los puntos clickeados, se imprimirá la matriz de confusión obtenida, y se predecirá la categoría de todos los puntos de la imagen, utilizando el color promedio de los puntos seleccionados manualmente para la categoría para representarla  "
   ]
  },
  {
   "cell_type": "code",
   "execution_count": 28,
   "id": "fe109fa3",
   "metadata": {},
   "outputs": [
    {
     "name": "stdout",
     "output_type": "stream",
     "text": [
      "Ingresar el número de puntos que se seleccionarán en cada categoría: 5\n",
      "Ingresar el nombre de la categoría (o \"finalizar\" para predecir): tierra\n",
      "Ingresar el nombre de la categoría (o \"finalizar\" para predecir): agua\n",
      "Ingresar el nombre de la categoría (o \"finalizar\" para predecir): ciudad\n",
      "Ingresar el nombre de la categoría (o \"finalizar\" para predecir): finalizar\n",
      "Matriz de confusión\n",
      "[[1 0 0]\n",
      " [0 1 0]\n",
      " [0 0 2]]\n"
     ]
    }
   ],
   "source": [
    "# Cargo la imagen\n",
    "classification_image = cv2.imread('./Imagenes/RGB/triple_frontera.jpg')\n",
    "classification_copy = classification_image.copy()\n",
    "\n",
    "# Defino función para manejar eventos con el mouse\n",
    "def handle_mouse_events(event, x, y, flags, param):\n",
    "    # Chequeo si se clickeo\n",
    "    if event == cv2.EVENT_LBUTTONDOWN:\n",
    "        # Pinto el pixel clickeado\n",
    "        cv2.circle(classification_copy, (x, y), 1, (255, 255, 255), -1)\n",
    "\n",
    "        # Agrego el punto clickeado a la data de entrenamiento con el nombre de su categoría\n",
    "        if len(classification_image.shape) == 2:\n",
    "            data[label].append([classification_image[y, x]])\n",
    "        else:\n",
    "            data[label].append(classification_image[y, x])\n",
    "\n",
    "\n",
    "        # Chequeo que hayan ingresado todos los puntos\n",
    "        if len(data[label]) == num_points:\n",
    "            cv2.destroyWindow(f'Seleccionando {num_points} puntos para la categoria {label}')\n",
    "\n",
    "# Creo una SVM\n",
    "clf = svm.SVC()\n",
    "\n",
    "# Creo diccionario para los labels\n",
    "data = {}\n",
    "\n",
    "# Pregunto a usuario cantidad de puntos\n",
    "num_points = int(input('Ingresar el número de puntos que se seleccionarán en cada categoría: '))\n",
    "\n",
    "# Loop con agregado de categorías\n",
    "while True:\n",
    "    # Pregunto nombre de categoría\n",
    "    label = input('Ingresar el nombre de la categoría (o \"finalizar\" para predecir): ')\n",
    "\n",
    "    # Chequeo si finalizó\n",
    "    if label == 'finalizar':\n",
    "        break\n",
    "\n",
    "    # Creo lista con puntos y labels\n",
    "    data[label] = []\n",
    "\n",
    "    # Muestro la imagen y voy pintando pixel clickeado\n",
    "    while len(data[label]) < num_points:\n",
    "        cv2.imshow(f'Seleccionando {num_points} puntos para la categoria {label}', classification_copy)\n",
    "        cv2.setMouseCallback(f'Seleccionando {num_points} puntos para la categoria {label}', handle_mouse_events)\n",
    "        cv2.waitKey(1)\n",
    "\n",
    "# Creo listas vacías para datos\n",
    "X = []\n",
    "y = []\n",
    "\n",
    "# Loop sobre el diccionario\n",
    "for label, points in data.items():\n",
    "    # Agrego los puntos\n",
    "    X.extend(points)\n",
    "    y.extend([label] * len(points))\n",
    "\n",
    "# Divido en training y testing\n",
    "X_train, X_test, y_train, y_test = train_test_split(X, y, stratify=y)\n",
    "\n",
    "# Entreno\n",
    "clf.fit(X_train, y_train)\n",
    "\n",
    "# Testeo\n",
    "y_pred = clf.predict(X_test)\n",
    "\n",
    "# Imprimo matriz de confusión\n",
    "print('Matriz de confusión')\n",
    "print(confusion_matrix(y_test, y_pred))\n",
    "\n",
    "# Predigo labels para toda la imagen\n",
    "if len(classification_image.shape) == 2:\n",
    "    labels = clf.predict(classification_image.reshape(-1, 1)).reshape(classification_image.shape)\n",
    "else:\n",
    "    labels = clf.predict(classification_image.reshape(-1, 3)).reshape(classification_image.shape[:2])\n",
    "\n",
    "# Creo nueva imagen con el resultado\n",
    "if len(classification_image.shape) == 2:\n",
    "    result = np.zeros(classification_image.shape, dtype=np.uint8)\n",
    "else:\n",
    "    result = np.zeros(classification_image.shape, dtype=np.uint8)\n",
    "\n",
    "# Modifico los colores para que sean el promedio de los colores de los puntos seleccionados\n",
    "for label in data.keys():\n",
    "    # Promedio de puntos seleccionados \n",
    "    color = np.mean(data[label], axis=0).astype(np.uint8)\n",
    "\n",
    "    # Reemplazo pixels\n",
    "    if len(classification_image.shape) == 2:\n",
    "        result[labels == label] = color\n",
    "    else:\n",
    "        result[labels == label] = color\n",
    "\n",
    "# Muestro imagen clasificada \n",
    "cv2.imshow('Clasificacion con colores promedio de categoria', result)\n",
    "cv2.waitKey(0)\n",
    "cv2.destroyAllWindows()"
   ]
  },
  {
   "cell_type": "markdown",
   "id": "03c815ab",
   "metadata": {},
   "source": [
    "### 15) Aplicar el método SVM a la imagen del índice NDVI realizando los mismos pasos que el ejercicio 14 y comparar.  \n",
    "Utilizo el mismo código que anteriormente, pero para mi imagen NDVI. Como conclusiones generales, al ser la imagen más \"simple\", tanto por el tratamiento previo que se le da al calcular el NDVI, como por la zona seleccionada, el clasificador parecería funcionar mejor para este caso."
   ]
  },
  {
   "cell_type": "code",
   "execution_count": 29,
   "id": "16d48979",
   "metadata": {},
   "outputs": [
    {
     "name": "stdout",
     "output_type": "stream",
     "text": [
      "Ingresar el número de puntos que se seleccionarán en cada categoría: 5\n",
      "Ingresar el nombre de la categoría (o \"finalizar\" para predecir): tierra\n",
      "Ingresar el nombre de la categoría (o \"finalizar\" para predecir): agua\n",
      "Ingresar el nombre de la categoría (o \"finalizar\" para predecir): margen\n",
      "Ingresar el nombre de la categoría (o \"finalizar\" para predecir): finalizar\n",
      "Matriz de confusión\n",
      "[[1 0 0]\n",
      " [0 1 0]\n",
      " [0 0 2]]\n"
     ]
    }
   ],
   "source": [
    "# Cargo la imagen\n",
    "classification_image = ndvi_8bit\n",
    "classification_copy = classification_image.copy()\n",
    "\n",
    "# Creo una SVM\n",
    "clf = svm.SVC()\n",
    "\n",
    "# Creo diccionario para los labels\n",
    "data = {}\n",
    "\n",
    "# Pregunto a usuario cantidad de puntos\n",
    "num_points = int(input('Ingresar el número de puntos que se seleccionarán en cada categoría: '))\n",
    "\n",
    "# Loop con agregado de categorías\n",
    "while True:\n",
    "    # Pregunto nombre de categoría\n",
    "    label = input('Ingresar el nombre de la categoría (o \"finalizar\" para predecir): ')\n",
    "\n",
    "    # Chequeo si finalizó\n",
    "    if label == 'finalizar':\n",
    "        break\n",
    "\n",
    "    # Creo lista con puntos y labels\n",
    "    data[label] = []\n",
    "\n",
    "    # Muestro la imagen y voy pintando pixel clickeado\n",
    "    while len(data[label]) < num_points:\n",
    "        cv2.imshow(f'Seleccionando {num_points} puntos para la categoria {label}', classification_copy)\n",
    "        cv2.setMouseCallback(f'Seleccionando {num_points} puntos para la categoria {label}', handle_mouse_events)\n",
    "        cv2.waitKey(1)\n",
    "\n",
    "# Creo listas vacías para datos\n",
    "X = []\n",
    "y = []\n",
    "\n",
    "# Loop sobre el diccionario\n",
    "for label, points in data.items():\n",
    "    # Agrego los puntos\n",
    "    X.extend(points)\n",
    "    y.extend([label] * len(points))\n",
    "\n",
    "# Divido en training y testing\n",
    "X_train, X_test, y_train, y_test = train_test_split(X, y, stratify=y)\n",
    "\n",
    "# Entreno\n",
    "clf.fit(X_train, y_train)\n",
    "\n",
    "# Testeo\n",
    "y_pred = clf.predict(X_test)\n",
    "\n",
    "# Imprimo matriz de confusión\n",
    "print('Matriz de confusión')\n",
    "print(confusion_matrix(y_test, y_pred))\n",
    "\n",
    "# Predigo labels para toda la imagen\n",
    "if len(classification_image.shape) == 2:\n",
    "    labels = clf.predict(classification_image.reshape(-1, 1)).reshape(classification_image.shape)\n",
    "else:\n",
    "    labels = clf.predict(classification_image.reshape(-1, 3)).reshape(classification_image.shape[:2])\n",
    "\n",
    "# Creo nueva imagen con el resultado\n",
    "if len(classification_image.shape) == 2:\n",
    "    result = np.zeros(classification_image.shape, dtype=np.uint8)\n",
    "else:\n",
    "    result = np.zeros(classification_image.shape, dtype=np.uint8)\n",
    "\n",
    "# Modifico los colores para que sean el promedio de los colores de los puntos seleccionados\n",
    "for label in data.keys():\n",
    "    # Promedio de puntos seleccionados \n",
    "    color = np.mean(data[label], axis=0).astype(np.uint8)\n",
    "\n",
    "    # Reemplazo pixels\n",
    "    if len(classification_image.shape) == 2:\n",
    "        result[labels == label] = color\n",
    "    else:\n",
    "        result[labels == label] = color\n",
    "\n",
    "# Muestro imagen clasificada \n",
    "cv2.imshow('Clasificacion con colores promedio de categoria', result)\n",
    "cv2.waitKey(0)\n",
    "cv2.destroyAllWindows()"
   ]
  },
  {
   "cell_type": "code",
   "execution_count": null,
   "id": "9b10ad5b",
   "metadata": {},
   "outputs": [],
   "source": []
  }
 ],
 "metadata": {
  "kernelspec": {
   "display_name": "Python 3 (ipykernel)",
   "language": "python",
   "name": "python3"
  },
  "language_info": {
   "codemirror_mode": {
    "name": "ipython",
    "version": 3
   },
   "file_extension": ".py",
   "mimetype": "text/x-python",
   "name": "python",
   "nbconvert_exporter": "python",
   "pygments_lexer": "ipython3",
   "version": "3.9.5"
  }
 },
 "nbformat": 4,
 "nbformat_minor": 5
}
